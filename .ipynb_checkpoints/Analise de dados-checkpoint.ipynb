{
 "cells": [
  {
   "cell_type": "markdown",
   "metadata": {},
   "source": [
    "# Legenda\n",
    "\n",
    "## Preto = Títulos\n",
    "\n",
    "## <font color='blue'>Azul = Comentários</font>\n",
    "\n",
    "## <font color='red'>Vermelho = Respostas</font>"
   ]
  },
  {
   "cell_type": "markdown",
   "metadata": {},
   "source": [
    "# Importação das bibliotecas utilizadas no código"
   ]
  },
  {
   "cell_type": "code",
   "execution_count": 1,
   "metadata": {},
   "outputs": [],
   "source": [
    "import pandas as pd\n",
    "import numpy as np\n",
    "import matplotlib.pyplot as plt\n",
    "import seaborn as sns\n",
    "\n",
    "%matplotlib inline"
   ]
  },
  {
   "cell_type": "markdown",
   "metadata": {},
   "source": [
    "# Leitura dos DataFrames"
   ]
  },
  {
   "cell_type": "code",
   "execution_count": 2,
   "metadata": {
    "scrolled": true
   },
   "outputs": [
    {
     "data": {
      "text/html": [
       "<div>\n",
       "<style scoped>\n",
       "    .dataframe tbody tr th:only-of-type {\n",
       "        vertical-align: middle;\n",
       "    }\n",
       "\n",
       "    .dataframe tbody tr th {\n",
       "        vertical-align: top;\n",
       "    }\n",
       "\n",
       "    .dataframe thead th {\n",
       "        text-align: right;\n",
       "    }\n",
       "</style>\n",
       "<table border=\"1\" class=\"dataframe\">\n",
       "  <thead>\n",
       "    <tr style=\"text-align: right;\">\n",
       "      <th></th>\n",
       "      <th>customer_id</th>\n",
       "      <th>date</th>\n",
       "      <th>off_product_id</th>\n",
       "      <th>price</th>\n",
       "      <th>quantity</th>\n",
       "      <th>sale_id</th>\n",
       "      <th>state</th>\n",
       "      <th>store_id</th>\n",
       "    </tr>\n",
       "  </thead>\n",
       "  <tbody>\n",
       "    <tr>\n",
       "      <th>0</th>\n",
       "      <td>NaN</td>\n",
       "      <td>2018-08-01</td>\n",
       "      <td>643839313230323</td>\n",
       "      <td>279.0</td>\n",
       "      <td>1</td>\n",
       "      <td>323932636465316</td>\n",
       "      <td>RN</td>\n",
       "      <td>3162633</td>\n",
       "    </tr>\n",
       "    <tr>\n",
       "      <th>1</th>\n",
       "      <td>NaN</td>\n",
       "      <td>2018-08-01</td>\n",
       "      <td>613665646663346</td>\n",
       "      <td>229.0</td>\n",
       "      <td>1</td>\n",
       "      <td>326463633336323</td>\n",
       "      <td>RN</td>\n",
       "      <td>3162633</td>\n",
       "    </tr>\n",
       "    <tr>\n",
       "      <th>2</th>\n",
       "      <td>NaN</td>\n",
       "      <td>2018-08-01</td>\n",
       "      <td>343739666265353</td>\n",
       "      <td>179.0</td>\n",
       "      <td>1</td>\n",
       "      <td>333331346330323</td>\n",
       "      <td>RN</td>\n",
       "      <td>3162633</td>\n",
       "    </tr>\n",
       "    <tr>\n",
       "      <th>3</th>\n",
       "      <td>NaN</td>\n",
       "      <td>2018-08-01</td>\n",
       "      <td>373034633762613</td>\n",
       "      <td>269.0</td>\n",
       "      <td>1</td>\n",
       "      <td>393461383633336</td>\n",
       "      <td>RN</td>\n",
       "      <td>3162633</td>\n",
       "    </tr>\n",
       "    <tr>\n",
       "      <th>4</th>\n",
       "      <td>NaN</td>\n",
       "      <td>2018-08-01</td>\n",
       "      <td>343634373062363</td>\n",
       "      <td>29.0</td>\n",
       "      <td>1</td>\n",
       "      <td>616531626536373</td>\n",
       "      <td>RN</td>\n",
       "      <td>3162633</td>\n",
       "    </tr>\n",
       "  </tbody>\n",
       "</table>\n",
       "</div>"
      ],
      "text/plain": [
       "   customer_id       date   off_product_id  price  quantity          sale_id  \\\n",
       "0          NaN 2018-08-01  643839313230323  279.0         1  323932636465316   \n",
       "1          NaN 2018-08-01  613665646663346  229.0         1  326463633336323   \n",
       "2          NaN 2018-08-01  343739666265353  179.0         1  333331346330323   \n",
       "3          NaN 2018-08-01  373034633762613  269.0         1  393461383633336   \n",
       "4          NaN 2018-08-01  343634373062363   29.0         1  616531626536373   \n",
       "\n",
       "  state  store_id  \n",
       "0    RN   3162633  \n",
       "1    RN   3162633  \n",
       "2    RN   3162633  \n",
       "3    RN   3162633  \n",
       "4    RN   3162633  "
      ]
     },
     "execution_count": 2,
     "metadata": {},
     "output_type": "execute_result"
    }
   ],
   "source": [
    "offSales=pd.read_json(r'offline_sales.json',lines=True)\n",
    "offSales.head()"
   ]
  },
  {
   "cell_type": "code",
   "execution_count": 3,
   "metadata": {},
   "outputs": [
    {
     "data": {
      "text/html": [
       "<div>\n",
       "<style scoped>\n",
       "    .dataframe tbody tr th:only-of-type {\n",
       "        vertical-align: middle;\n",
       "    }\n",
       "\n",
       "    .dataframe tbody tr th {\n",
       "        vertical-align: top;\n",
       "    }\n",
       "\n",
       "    .dataframe thead th {\n",
       "        text-align: right;\n",
       "    }\n",
       "</style>\n",
       "<table border=\"1\" class=\"dataframe\">\n",
       "  <thead>\n",
       "    <tr style=\"text-align: right;\">\n",
       "      <th></th>\n",
       "      <th>customer_id</th>\n",
       "      <th>date</th>\n",
       "      <th>deviceType</th>\n",
       "      <th>on_product_id</th>\n",
       "      <th>order_id</th>\n",
       "      <th>price</th>\n",
       "      <th>quantity</th>\n",
       "      <th>visitor_id</th>\n",
       "    </tr>\n",
       "  </thead>\n",
       "  <tbody>\n",
       "    <tr>\n",
       "      <th>0</th>\n",
       "      <td>NaN</td>\n",
       "      <td>2018-08-01</td>\n",
       "      <td>desktop</td>\n",
       "      <td>323762666337343</td>\n",
       "      <td>363063373630306</td>\n",
       "      <td>839</td>\n",
       "      <td>1</td>\n",
       "      <td>3.663324e+24</td>\n",
       "    </tr>\n",
       "    <tr>\n",
       "      <th>1</th>\n",
       "      <td>6.339334e+19</td>\n",
       "      <td>2018-08-01</td>\n",
       "      <td>mobile</td>\n",
       "      <td>313562333039323</td>\n",
       "      <td>356664366366353</td>\n",
       "      <td>629</td>\n",
       "      <td>1</td>\n",
       "      <td>3.430317e+24</td>\n",
       "    </tr>\n",
       "    <tr>\n",
       "      <th>2</th>\n",
       "      <td>3.765363e+19</td>\n",
       "      <td>2018-08-01</td>\n",
       "      <td>desktop</td>\n",
       "      <td>383863346531623</td>\n",
       "      <td>313432656633333</td>\n",
       "      <td>219</td>\n",
       "      <td>1</td>\n",
       "      <td>3.261343e+24</td>\n",
       "    </tr>\n",
       "    <tr>\n",
       "      <th>3</th>\n",
       "      <td>6.533383e+19</td>\n",
       "      <td>2018-08-01</td>\n",
       "      <td>mobile</td>\n",
       "      <td>666136386663626</td>\n",
       "      <td>633236633438383</td>\n",
       "      <td>239</td>\n",
       "      <td>1</td>\n",
       "      <td>6.437387e+24</td>\n",
       "    </tr>\n",
       "    <tr>\n",
       "      <th>4</th>\n",
       "      <td>NaN</td>\n",
       "      <td>2018-08-01</td>\n",
       "      <td>desktop</td>\n",
       "      <td>626533383465323</td>\n",
       "      <td>623030326130383</td>\n",
       "      <td>69</td>\n",
       "      <td>1</td>\n",
       "      <td>6.264657e+24</td>\n",
       "    </tr>\n",
       "  </tbody>\n",
       "</table>\n",
       "</div>"
      ],
      "text/plain": [
       "    customer_id       date deviceType    on_product_id         order_id  \\\n",
       "0           NaN 2018-08-01    desktop  323762666337343  363063373630306   \n",
       "1  6.339334e+19 2018-08-01     mobile  313562333039323  356664366366353   \n",
       "2  3.765363e+19 2018-08-01    desktop  383863346531623  313432656633333   \n",
       "3  6.533383e+19 2018-08-01     mobile  666136386663626  633236633438383   \n",
       "4           NaN 2018-08-01    desktop  626533383465323  623030326130383   \n",
       "\n",
       "   price  quantity    visitor_id  \n",
       "0    839         1  3.663324e+24  \n",
       "1    629         1  3.430317e+24  \n",
       "2    219         1  3.261343e+24  \n",
       "3    239         1  6.437387e+24  \n",
       "4     69         1  6.264657e+24  "
      ]
     },
     "execution_count": 3,
     "metadata": {},
     "output_type": "execute_result"
    }
   ],
   "source": [
    "onOrders = pd.read_json(r'online_orders.json',lines=True)\n",
    "onOrders.head()"
   ]
  },
  {
   "cell_type": "code",
   "execution_count": 4,
   "metadata": {},
   "outputs": [
    {
     "data": {
      "text/html": [
       "<div>\n",
       "<style scoped>\n",
       "    .dataframe tbody tr th:only-of-type {\n",
       "        vertical-align: middle;\n",
       "    }\n",
       "\n",
       "    .dataframe tbody tr th {\n",
       "        vertical-align: top;\n",
       "    }\n",
       "\n",
       "    .dataframe thead th {\n",
       "        text-align: right;\n",
       "    }\n",
       "</style>\n",
       "<table border=\"1\" class=\"dataframe\">\n",
       "  <thead>\n",
       "    <tr style=\"text-align: right;\">\n",
       "      <th></th>\n",
       "      <th>category_id</th>\n",
       "      <th>customer_id</th>\n",
       "      <th>date</th>\n",
       "      <th>deviceType</th>\n",
       "      <th>on_product_id</th>\n",
       "      <th>pageType</th>\n",
       "      <th>visitor_id</th>\n",
       "    </tr>\n",
       "  </thead>\n",
       "  <tbody>\n",
       "    <tr>\n",
       "      <th>0</th>\n",
       "      <td>NaN</td>\n",
       "      <td>NaN</td>\n",
       "      <td>2018-08-01</td>\n",
       "      <td>desktop</td>\n",
       "      <td>NaN</td>\n",
       "      <td>home</td>\n",
       "      <td>6.162326e+24</td>\n",
       "    </tr>\n",
       "    <tr>\n",
       "      <th>1</th>\n",
       "      <td>NaN</td>\n",
       "      <td>NaN</td>\n",
       "      <td>2018-08-01</td>\n",
       "      <td>desktop</td>\n",
       "      <td>NaN</td>\n",
       "      <td>landing_page</td>\n",
       "      <td>3.538363e+24</td>\n",
       "    </tr>\n",
       "    <tr>\n",
       "      <th>2</th>\n",
       "      <td>6.161393e+09</td>\n",
       "      <td>NaN</td>\n",
       "      <td>2018-08-01</td>\n",
       "      <td>mobile</td>\n",
       "      <td>NaN</td>\n",
       "      <td>subcategory</td>\n",
       "      <td>3.130377e+24</td>\n",
       "    </tr>\n",
       "    <tr>\n",
       "      <th>3</th>\n",
       "      <td>6.664354e+09</td>\n",
       "      <td>NaN</td>\n",
       "      <td>2018-08-01</td>\n",
       "      <td>mobile</td>\n",
       "      <td>NaN</td>\n",
       "      <td>subcategory</td>\n",
       "      <td>3.130377e+24</td>\n",
       "    </tr>\n",
       "    <tr>\n",
       "      <th>4</th>\n",
       "      <td>NaN</td>\n",
       "      <td>NaN</td>\n",
       "      <td>2018-08-01</td>\n",
       "      <td>desktop</td>\n",
       "      <td>NaN</td>\n",
       "      <td>landing_page</td>\n",
       "      <td>3.235374e+24</td>\n",
       "    </tr>\n",
       "  </tbody>\n",
       "</table>\n",
       "</div>"
      ],
      "text/plain": [
       "    category_id  customer_id       date deviceType  on_product_id  \\\n",
       "0           NaN          NaN 2018-08-01    desktop            NaN   \n",
       "1           NaN          NaN 2018-08-01    desktop            NaN   \n",
       "2  6.161393e+09          NaN 2018-08-01     mobile            NaN   \n",
       "3  6.664354e+09          NaN 2018-08-01     mobile            NaN   \n",
       "4           NaN          NaN 2018-08-01    desktop            NaN   \n",
       "\n",
       "       pageType    visitor_id  \n",
       "0          home  6.162326e+24  \n",
       "1  landing_page  3.538363e+24  \n",
       "2   subcategory  3.130377e+24  \n",
       "3   subcategory  3.130377e+24  \n",
       "4  landing_page  3.235374e+24  "
      ]
     },
     "execution_count": 4,
     "metadata": {},
     "output_type": "execute_result"
    }
   ],
   "source": [
    "onPage = pd.read_json(r'online_pageviews.json',lines=True)\n",
    "onPage.head()"
   ]
  },
  {
   "cell_type": "markdown",
   "metadata": {},
   "source": [
    "## Verificação dos dados faltantes"
   ]
  },
  {
   "cell_type": "code",
   "execution_count": 5,
   "metadata": {},
   "outputs": [
    {
     "data": {
      "text/plain": [
       "<matplotlib.axes._subplots.AxesSubplot at 0x17fa3595978>"
      ]
     },
     "execution_count": 5,
     "metadata": {},
     "output_type": "execute_result"
    },
    {
     "data": {
      "image/png": "[encoded data removed]",
      "text/plain": [
       "<Figure size 864x432 with 2 Axes>"
      ]
     },
     "metadata": {
      "needs_background": "light"
     },
     "output_type": "display_data"
    }
   ],
   "source": [
    "plt.figure(figsize=(12,6))\n",
    "sns.heatmap(offSales.isnull())"
   ]
  },
  {
   "cell_type": "code",
   "execution_count": 6,
   "metadata": {},
   "outputs": [
    {
     "data": {
      "text/plain": [
       "<matplotlib.axes._subplots.AxesSubplot at 0x17fa51d9fd0>"
      ]
     },
     "execution_count": 6,
     "metadata": {},
     "output_type": "execute_result"
    },
    {
     "data": {
      "image/png": "[encoded data removed]",
      "text/plain": [
       "<Figure size 864x432 with 2 Axes>"
      ]
     },
     "metadata": {
      "needs_background": "light"
     },
     "output_type": "display_data"
    }
   ],
   "source": [
    "plt.figure(figsize=(12,6))\n",
    "sns.heatmap(onOrders.isnull())"
   ]
  },
  {
   "cell_type": "code",
   "execution_count": 7,
   "metadata": {},
   "outputs": [
    {
     "data": {
      "text/plain": [
       "<matplotlib.axes._subplots.AxesSubplot at 0x17fa52ffa58>"
      ]
     },
     "execution_count": 7,
     "metadata": {},
     "output_type": "execute_result"
    },
    {
     "data": {
      "image/png": "[encoded data removed]",
      "text/plain": [
       "<Figure size 1152x432 with 2 Axes>"
      ]
     },
     "metadata": {
      "needs_background": "light"
     },
     "output_type": "display_data"
    }
   ],
   "source": [
    "plt.figure(figsize=(16,6))\n",
    "sns.heatmap(onPage.isnull())"
   ]
  },
  {
   "cell_type": "markdown",
   "metadata": {},
   "source": [
    "## <font color='blue'>Os dados faltantes das compras são somente de ID do usuário e não afetarão as perguntas feitas (1 a 3)</font>"
   ]
  },
  {
   "cell_type": "markdown",
   "metadata": {},
   "source": [
    "## Verificando descrição dos dados"
   ]
  },
  {
   "cell_type": "code",
   "execution_count": 8,
   "metadata": {},
   "outputs": [
    {
     "data": {
      "text/html": [
       "<div>\n",
       "<style scoped>\n",
       "    .dataframe tbody tr th:only-of-type {\n",
       "        vertical-align: middle;\n",
       "    }\n",
       "\n",
       "    .dataframe tbody tr th {\n",
       "        vertical-align: top;\n",
       "    }\n",
       "\n",
       "    .dataframe thead th {\n",
       "        text-align: right;\n",
       "    }\n",
       "</style>\n",
       "<table border=\"1\" class=\"dataframe\">\n",
       "  <thead>\n",
       "    <tr style=\"text-align: right;\">\n",
       "      <th></th>\n",
       "      <th>customer_id</th>\n",
       "      <th>off_product_id</th>\n",
       "      <th>price</th>\n",
       "      <th>quantity</th>\n",
       "      <th>sale_id</th>\n",
       "      <th>store_id</th>\n",
       "    </tr>\n",
       "  </thead>\n",
       "  <tbody>\n",
       "    <tr>\n",
       "      <th>count</th>\n",
       "      <td>2.584400e+04</td>\n",
       "      <td>2.937200e+04</td>\n",
       "      <td>29372.000000</td>\n",
       "      <td>29372.000000</td>\n",
       "      <td>2.937200e+04</td>\n",
       "      <td>2.937200e+04</td>\n",
       "    </tr>\n",
       "    <tr>\n",
       "      <th>mean</th>\n",
       "      <td>4.582052e+19</td>\n",
       "      <td>4.540399e+14</td>\n",
       "      <td>468.062785</td>\n",
       "      <td>1.022743</td>\n",
       "      <td>4.593062e+14</td>\n",
       "      <td>4.380983e+06</td>\n",
       "    </tr>\n",
       "    <tr>\n",
       "      <th>std</th>\n",
       "      <td>1.428680e+19</td>\n",
       "      <td>1.422427e+14</td>\n",
       "      <td>819.182618</td>\n",
       "      <td>0.174934</td>\n",
       "      <td>1.426206e+14</td>\n",
       "      <td>1.314694e+06</td>\n",
       "    </tr>\n",
       "    <tr>\n",
       "      <th>min</th>\n",
       "      <td>3.030303e+19</td>\n",
       "      <td>3.030314e+14</td>\n",
       "      <td>0.010000</td>\n",
       "      <td>1.000000</td>\n",
       "      <td>3.030303e+14</td>\n",
       "      <td>3.161323e+06</td>\n",
       "    </tr>\n",
       "    <tr>\n",
       "      <th>25%</th>\n",
       "      <td>3.430314e+19</td>\n",
       "      <td>3.363346e+14</td>\n",
       "      <td>168.000000</td>\n",
       "      <td>1.000000</td>\n",
       "      <td>3.430624e+14</td>\n",
       "      <td>3.530643e+06</td>\n",
       "    </tr>\n",
       "    <tr>\n",
       "      <th>50%</th>\n",
       "      <td>3.830395e+19</td>\n",
       "      <td>3.765395e+14</td>\n",
       "      <td>289.000000</td>\n",
       "      <td>1.000000</td>\n",
       "      <td>3.830663e+14</td>\n",
       "      <td>3.639373e+06</td>\n",
       "    </tr>\n",
       "    <tr>\n",
       "      <th>75%</th>\n",
       "      <td>6.331634e+19</td>\n",
       "      <td>6.265626e+14</td>\n",
       "      <td>589.000000</td>\n",
       "      <td>1.000000</td>\n",
       "      <td>6.330303e+14</td>\n",
       "      <td>6.236393e+06</td>\n",
       "    </tr>\n",
       "    <tr>\n",
       "      <th>max</th>\n",
       "      <td>6.666667e+19</td>\n",
       "      <td>6.666663e+14</td>\n",
       "      <td>39690.000000</td>\n",
       "      <td>9.000000</td>\n",
       "      <td>6.666667e+14</td>\n",
       "      <td>6.637353e+06</td>\n",
       "    </tr>\n",
       "  </tbody>\n",
       "</table>\n",
       "</div>"
      ],
      "text/plain": [
       "        customer_id  off_product_id         price      quantity       sale_id  \\\n",
       "count  2.584400e+04    2.937200e+04  29372.000000  29372.000000  2.937200e+04   \n",
       "mean   4.582052e+19    4.540399e+14    468.062785      1.022743  4.593062e+14   \n",
       "std    1.428680e+19    1.422427e+14    819.182618      0.174934  1.426206e+14   \n",
       "min    3.030303e+19    3.030314e+14      0.010000      1.000000  3.030303e+14   \n",
       "25%    3.430314e+19    3.363346e+14    168.000000      1.000000  3.430624e+14   \n",
       "50%    3.830395e+19    3.765395e+14    289.000000      1.000000  3.830663e+14   \n",
       "75%    6.331634e+19    6.265626e+14    589.000000      1.000000  6.330303e+14   \n",
       "max    6.666667e+19    6.666663e+14  39690.000000      9.000000  6.666667e+14   \n",
       "\n",
       "           store_id  \n",
       "count  2.937200e+04  \n",
       "mean   4.380983e+06  \n",
       "std    1.314694e+06  \n",
       "min    3.161323e+06  \n",
       "25%    3.530643e+06  \n",
       "50%    3.639373e+06  \n",
       "75%    6.236393e+06  \n",
       "max    6.637353e+06  "
      ]
     },
     "execution_count": 8,
     "metadata": {},
     "output_type": "execute_result"
    }
   ],
   "source": [
    "offSales.describe()"
   ]
  },
  {
   "cell_type": "code",
   "execution_count": 9,
   "metadata": {},
   "outputs": [
    {
     "data": {
      "text/html": [
       "<div>\n",
       "<style scoped>\n",
       "    .dataframe tbody tr th:only-of-type {\n",
       "        vertical-align: middle;\n",
       "    }\n",
       "\n",
       "    .dataframe tbody tr th {\n",
       "        vertical-align: top;\n",
       "    }\n",
       "\n",
       "    .dataframe thead th {\n",
       "        text-align: right;\n",
       "    }\n",
       "</style>\n",
       "<table border=\"1\" class=\"dataframe\">\n",
       "  <thead>\n",
       "    <tr style=\"text-align: right;\">\n",
       "      <th></th>\n",
       "      <th>customer_id</th>\n",
       "      <th>on_product_id</th>\n",
       "      <th>order_id</th>\n",
       "      <th>price</th>\n",
       "      <th>quantity</th>\n",
       "      <th>visitor_id</th>\n",
       "    </tr>\n",
       "  </thead>\n",
       "  <tbody>\n",
       "    <tr>\n",
       "      <th>count</th>\n",
       "      <td>7.757000e+03</td>\n",
       "      <td>1.223700e+04</td>\n",
       "      <td>1.223700e+04</td>\n",
       "      <td>12237.000000</td>\n",
       "      <td>12237.000000</td>\n",
       "      <td>1.223700e+04</td>\n",
       "    </tr>\n",
       "    <tr>\n",
       "      <th>mean</th>\n",
       "      <td>4.610980e+19</td>\n",
       "      <td>4.557491e+14</td>\n",
       "      <td>4.603621e+14</td>\n",
       "      <td>461.047397</td>\n",
       "      <td>1.002452</td>\n",
       "      <td>4.549275e+24</td>\n",
       "    </tr>\n",
       "    <tr>\n",
       "      <th>std</th>\n",
       "      <td>1.428962e+19</td>\n",
       "      <td>1.415336e+14</td>\n",
       "      <td>1.427719e+14</td>\n",
       "      <td>481.098790</td>\n",
       "      <td>0.052656</td>\n",
       "      <td>1.423991e+24</td>\n",
       "    </tr>\n",
       "    <tr>\n",
       "      <th>min</th>\n",
       "      <td>3.030304e+19</td>\n",
       "      <td>3.030383e+14</td>\n",
       "      <td>3.030306e+14</td>\n",
       "      <td>19.000000</td>\n",
       "      <td>1.000000</td>\n",
       "      <td>3.030316e+24</td>\n",
       "    </tr>\n",
       "    <tr>\n",
       "      <th>25%</th>\n",
       "      <td>3.433646e+19</td>\n",
       "      <td>3.363643e+14</td>\n",
       "      <td>3.432317e+14</td>\n",
       "      <td>209.000000</td>\n",
       "      <td>1.000000</td>\n",
       "      <td>3.364323e+24</td>\n",
       "    </tr>\n",
       "    <tr>\n",
       "      <th>50%</th>\n",
       "      <td>3.830316e+19</td>\n",
       "      <td>3.765393e+14</td>\n",
       "      <td>3.832654e+14</td>\n",
       "      <td>359.000000</td>\n",
       "      <td>1.000000</td>\n",
       "      <td>3.762666e+24</td>\n",
       "    </tr>\n",
       "    <tr>\n",
       "      <th>75%</th>\n",
       "      <td>6.331323e+19</td>\n",
       "      <td>6.262643e+14</td>\n",
       "      <td>6.331323e+14</td>\n",
       "      <td>569.000000</td>\n",
       "      <td>1.000000</td>\n",
       "      <td>6.264373e+24</td>\n",
       "    </tr>\n",
       "    <tr>\n",
       "      <th>max</th>\n",
       "      <td>6.666647e+19</td>\n",
       "      <td>6.666653e+14</td>\n",
       "      <td>6.666663e+14</td>\n",
       "      <td>11190.000000</td>\n",
       "      <td>3.000000</td>\n",
       "      <td>6.666666e+24</td>\n",
       "    </tr>\n",
       "  </tbody>\n",
       "</table>\n",
       "</div>"
      ],
      "text/plain": [
       "        customer_id  on_product_id      order_id         price      quantity  \\\n",
       "count  7.757000e+03   1.223700e+04  1.223700e+04  12237.000000  12237.000000   \n",
       "mean   4.610980e+19   4.557491e+14  4.603621e+14    461.047397      1.002452   \n",
       "std    1.428962e+19   1.415336e+14  1.427719e+14    481.098790      0.052656   \n",
       "min    3.030304e+19   3.030383e+14  3.030306e+14     19.000000      1.000000   \n",
       "25%    3.433646e+19   3.363643e+14  3.432317e+14    209.000000      1.000000   \n",
       "50%    3.830316e+19   3.765393e+14  3.832654e+14    359.000000      1.000000   \n",
       "75%    6.331323e+19   6.262643e+14  6.331323e+14    569.000000      1.000000   \n",
       "max    6.666647e+19   6.666653e+14  6.666663e+14  11190.000000      3.000000   \n",
       "\n",
       "         visitor_id  \n",
       "count  1.223700e+04  \n",
       "mean   4.549275e+24  \n",
       "std    1.423991e+24  \n",
       "min    3.030316e+24  \n",
       "25%    3.364323e+24  \n",
       "50%    3.762666e+24  \n",
       "75%    6.264373e+24  \n",
       "max    6.666666e+24  "
      ]
     },
     "execution_count": 9,
     "metadata": {},
     "output_type": "execute_result"
    }
   ],
   "source": [
    "onOrders.describe()"
   ]
  },
  {
   "cell_type": "markdown",
   "metadata": {},
   "source": [
    "## <font color='blue'>Os dados de quantidades estão como esperado (variando entre 0 e 9). Os dados de preço apresentam uma variação diferente, lojas fisicas parecem possuir produtos entre 0,01 e 40.000  enquanto as lojas online entre 19 e 11.000 (sem mais informações sobre a empresa sou incapaz de afirmar se isso é normal ou não)</font>"
   ]
  },
  {
   "cell_type": "markdown",
   "metadata": {},
   "source": [
    "# 1) Qual foi o faturamento total no período?"
   ]
  },
  {
   "cell_type": "code",
   "execution_count": 10,
   "metadata": {},
   "outputs": [
    {
     "data": {
      "text/plain": [
       "13903005.32"
      ]
     },
     "execution_count": 10,
     "metadata": {},
     "output_type": "execute_result"
    }
   ],
   "source": [
    "offlineFaturamento = (offSales['price']*offSales['quantity']).sum()\n",
    "offlineFaturamento"
   ]
  },
  {
   "cell_type": "code",
   "execution_count": 11,
   "metadata": {},
   "outputs": [
    {
     "data": {
      "text/plain": [
       "5649323"
      ]
     },
     "execution_count": 11,
     "metadata": {},
     "output_type": "execute_result"
    }
   ],
   "source": [
    "onlineFaturamento = (onOrders['price']*onOrders['quantity']).sum()\n",
    "onlineFaturamento"
   ]
  },
  {
   "cell_type": "code",
   "execution_count": 12,
   "metadata": {},
   "outputs": [
    {
     "data": {
      "text/plain": [
       "19552328.32"
      ]
     },
     "execution_count": 12,
     "metadata": {},
     "output_type": "execute_result"
    }
   ],
   "source": [
    "faturamentoTotal = onlineFaturamento + offlineFaturamento\n",
    "faturamentoTotal"
   ]
  },
  {
   "cell_type": "markdown",
   "metadata": {},
   "source": [
    "## <font color='red'>O faturamento total no período analisado foi de R$ 19.552.328,32</font>"
   ]
  },
  {
   "cell_type": "markdown",
   "metadata": {},
   "source": [
    "# 2) Qual o produto mais comprado online?"
   ]
  },
  {
   "cell_type": "code",
   "execution_count": 13,
   "metadata": {},
   "outputs": [
    {
     "data": {
      "text/html": [
       "<div>\n",
       "<style scoped>\n",
       "    .dataframe tbody tr th:only-of-type {\n",
       "        vertical-align: middle;\n",
       "    }\n",
       "\n",
       "    .dataframe tbody tr th {\n",
       "        vertical-align: top;\n",
       "    }\n",
       "\n",
       "    .dataframe thead th {\n",
       "        text-align: right;\n",
       "    }\n",
       "</style>\n",
       "<table border=\"1\" class=\"dataframe\">\n",
       "  <thead>\n",
       "    <tr style=\"text-align: right;\">\n",
       "      <th></th>\n",
       "      <th>customer_id</th>\n",
       "      <th>date</th>\n",
       "      <th>deviceType</th>\n",
       "      <th>on_product_id</th>\n",
       "      <th>order_id</th>\n",
       "      <th>price</th>\n",
       "      <th>quantity</th>\n",
       "      <th>visitor_id</th>\n",
       "    </tr>\n",
       "  </thead>\n",
       "  <tbody>\n",
       "    <tr>\n",
       "      <th>0</th>\n",
       "      <td>NaN</td>\n",
       "      <td>2018-08-01</td>\n",
       "      <td>desktop</td>\n",
       "      <td>323762666337343</td>\n",
       "      <td>363063373630306</td>\n",
       "      <td>839</td>\n",
       "      <td>1</td>\n",
       "      <td>3.663324e+24</td>\n",
       "    </tr>\n",
       "    <tr>\n",
       "      <th>1</th>\n",
       "      <td>6.339334e+19</td>\n",
       "      <td>2018-08-01</td>\n",
       "      <td>mobile</td>\n",
       "      <td>313562333039323</td>\n",
       "      <td>356664366366353</td>\n",
       "      <td>629</td>\n",
       "      <td>1</td>\n",
       "      <td>3.430317e+24</td>\n",
       "    </tr>\n",
       "    <tr>\n",
       "      <th>2</th>\n",
       "      <td>3.765363e+19</td>\n",
       "      <td>2018-08-01</td>\n",
       "      <td>desktop</td>\n",
       "      <td>383863346531623</td>\n",
       "      <td>313432656633333</td>\n",
       "      <td>219</td>\n",
       "      <td>1</td>\n",
       "      <td>3.261343e+24</td>\n",
       "    </tr>\n",
       "    <tr>\n",
       "      <th>3</th>\n",
       "      <td>6.533383e+19</td>\n",
       "      <td>2018-08-01</td>\n",
       "      <td>mobile</td>\n",
       "      <td>666136386663626</td>\n",
       "      <td>633236633438383</td>\n",
       "      <td>239</td>\n",
       "      <td>1</td>\n",
       "      <td>6.437387e+24</td>\n",
       "    </tr>\n",
       "    <tr>\n",
       "      <th>4</th>\n",
       "      <td>NaN</td>\n",
       "      <td>2018-08-01</td>\n",
       "      <td>desktop</td>\n",
       "      <td>626533383465323</td>\n",
       "      <td>623030326130383</td>\n",
       "      <td>69</td>\n",
       "      <td>1</td>\n",
       "      <td>6.264657e+24</td>\n",
       "    </tr>\n",
       "  </tbody>\n",
       "</table>\n",
       "</div>"
      ],
      "text/plain": [
       "    customer_id       date deviceType    on_product_id         order_id  \\\n",
       "0           NaN 2018-08-01    desktop  323762666337343  363063373630306   \n",
       "1  6.339334e+19 2018-08-01     mobile  313562333039323  356664366366353   \n",
       "2  3.765363e+19 2018-08-01    desktop  383863346531623  313432656633333   \n",
       "3  6.533383e+19 2018-08-01     mobile  666136386663626  633236633438383   \n",
       "4           NaN 2018-08-01    desktop  626533383465323  623030326130383   \n",
       "\n",
       "   price  quantity    visitor_id  \n",
       "0    839         1  3.663324e+24  \n",
       "1    629         1  3.430317e+24  \n",
       "2    219         1  3.261343e+24  \n",
       "3    239         1  6.437387e+24  \n",
       "4     69         1  6.264657e+24  "
      ]
     },
     "execution_count": 13,
     "metadata": {},
     "output_type": "execute_result"
    }
   ],
   "source": [
    "onOrders.head()"
   ]
  },
  {
   "cell_type": "code",
   "execution_count": 14,
   "metadata": {},
   "outputs": [],
   "source": [
    "grupo = onOrders[['on_product_id','quantity']].groupby('on_product_id')"
   ]
  },
  {
   "cell_type": "code",
   "execution_count": 15,
   "metadata": {},
   "outputs": [
    {
     "data": {
      "text/html": [
       "<div>\n",
       "<style scoped>\n",
       "    .dataframe tbody tr th:only-of-type {\n",
       "        vertical-align: middle;\n",
       "    }\n",
       "\n",
       "    .dataframe tbody tr th {\n",
       "        vertical-align: top;\n",
       "    }\n",
       "\n",
       "    .dataframe thead th {\n",
       "        text-align: right;\n",
       "    }\n",
       "</style>\n",
       "<table border=\"1\" class=\"dataframe\">\n",
       "  <thead>\n",
       "    <tr style=\"text-align: right;\">\n",
       "      <th></th>\n",
       "      <th>quantity</th>\n",
       "    </tr>\n",
       "    <tr>\n",
       "      <th>on_product_id</th>\n",
       "      <th></th>\n",
       "    </tr>\n",
       "  </thead>\n",
       "  <tbody>\n",
       "    <tr>\n",
       "      <th>626664333563363</th>\n",
       "      <td>74</td>\n",
       "    </tr>\n",
       "    <tr>\n",
       "      <th>376531636530353</th>\n",
       "      <td>51</td>\n",
       "    </tr>\n",
       "    <tr>\n",
       "      <th>656136316465643</th>\n",
       "      <td>50</td>\n",
       "    </tr>\n",
       "    <tr>\n",
       "      <th>396464373131666</th>\n",
       "      <td>47</td>\n",
       "    </tr>\n",
       "    <tr>\n",
       "      <th>343033316438393</th>\n",
       "      <td>45</td>\n",
       "    </tr>\n",
       "  </tbody>\n",
       "</table>\n",
       "</div>"
      ],
      "text/plain": [
       "                 quantity\n",
       "on_product_id            \n",
       "626664333563363        74\n",
       "376531636530353        51\n",
       "656136316465643        50\n",
       "396464373131666        47\n",
       "343033316438393        45"
      ]
     },
     "execution_count": 15,
     "metadata": {},
     "output_type": "execute_result"
    }
   ],
   "source": [
    "grupo.sum().sort_values('quantity',ascending=False).head()"
   ]
  },
  {
   "cell_type": "markdown",
   "metadata": {},
   "source": [
    "## <font color='red'>O produto mais comprado foi o 626664333563363 com 74 compras</font>"
   ]
  },
  {
   "cell_type": "markdown",
   "metadata": {},
   "source": [
    "# 3)Cariocas gostam de comprar no fim de semana?"
   ]
  },
  {
   "cell_type": "code",
   "execution_count": 16,
   "metadata": {},
   "outputs": [
    {
     "data": {
      "text/html": [
       "<div>\n",
       "<style scoped>\n",
       "    .dataframe tbody tr th:only-of-type {\n",
       "        vertical-align: middle;\n",
       "    }\n",
       "\n",
       "    .dataframe tbody tr th {\n",
       "        vertical-align: top;\n",
       "    }\n",
       "\n",
       "    .dataframe thead th {\n",
       "        text-align: right;\n",
       "    }\n",
       "</style>\n",
       "<table border=\"1\" class=\"dataframe\">\n",
       "  <thead>\n",
       "    <tr style=\"text-align: right;\">\n",
       "      <th></th>\n",
       "      <th>customer_id</th>\n",
       "      <th>date</th>\n",
       "      <th>off_product_id</th>\n",
       "      <th>price</th>\n",
       "      <th>quantity</th>\n",
       "      <th>sale_id</th>\n",
       "      <th>state</th>\n",
       "      <th>store_id</th>\n",
       "    </tr>\n",
       "  </thead>\n",
       "  <tbody>\n",
       "    <tr>\n",
       "      <th>0</th>\n",
       "      <td>NaN</td>\n",
       "      <td>2018-08-01</td>\n",
       "      <td>643839313230323</td>\n",
       "      <td>279.0</td>\n",
       "      <td>1</td>\n",
       "      <td>323932636465316</td>\n",
       "      <td>RN</td>\n",
       "      <td>3162633</td>\n",
       "    </tr>\n",
       "    <tr>\n",
       "      <th>1</th>\n",
       "      <td>NaN</td>\n",
       "      <td>2018-08-01</td>\n",
       "      <td>613665646663346</td>\n",
       "      <td>229.0</td>\n",
       "      <td>1</td>\n",
       "      <td>326463633336323</td>\n",
       "      <td>RN</td>\n",
       "      <td>3162633</td>\n",
       "    </tr>\n",
       "    <tr>\n",
       "      <th>2</th>\n",
       "      <td>NaN</td>\n",
       "      <td>2018-08-01</td>\n",
       "      <td>343739666265353</td>\n",
       "      <td>179.0</td>\n",
       "      <td>1</td>\n",
       "      <td>333331346330323</td>\n",
       "      <td>RN</td>\n",
       "      <td>3162633</td>\n",
       "    </tr>\n",
       "    <tr>\n",
       "      <th>3</th>\n",
       "      <td>NaN</td>\n",
       "      <td>2018-08-01</td>\n",
       "      <td>373034633762613</td>\n",
       "      <td>269.0</td>\n",
       "      <td>1</td>\n",
       "      <td>393461383633336</td>\n",
       "      <td>RN</td>\n",
       "      <td>3162633</td>\n",
       "    </tr>\n",
       "    <tr>\n",
       "      <th>4</th>\n",
       "      <td>NaN</td>\n",
       "      <td>2018-08-01</td>\n",
       "      <td>343634373062363</td>\n",
       "      <td>29.0</td>\n",
       "      <td>1</td>\n",
       "      <td>616531626536373</td>\n",
       "      <td>RN</td>\n",
       "      <td>3162633</td>\n",
       "    </tr>\n",
       "  </tbody>\n",
       "</table>\n",
       "</div>"
      ],
      "text/plain": [
       "   customer_id       date   off_product_id  price  quantity          sale_id  \\\n",
       "0          NaN 2018-08-01  643839313230323  279.0         1  323932636465316   \n",
       "1          NaN 2018-08-01  613665646663346  229.0         1  326463633336323   \n",
       "2          NaN 2018-08-01  343739666265353  179.0         1  333331346330323   \n",
       "3          NaN 2018-08-01  373034633762613  269.0         1  393461383633336   \n",
       "4          NaN 2018-08-01  343634373062363   29.0         1  616531626536373   \n",
       "\n",
       "  state  store_id  \n",
       "0    RN   3162633  \n",
       "1    RN   3162633  \n",
       "2    RN   3162633  \n",
       "3    RN   3162633  \n",
       "4    RN   3162633  "
      ]
     },
     "execution_count": 16,
     "metadata": {},
     "output_type": "execute_result"
    }
   ],
   "source": [
    "offSales.head()"
   ]
  },
  {
   "cell_type": "code",
   "execution_count": 17,
   "metadata": {},
   "outputs": [],
   "source": [
    "dias = ['Segunda','Terça','Quarta','Quinta','Sexta','Sábado','Domingo']\n",
    "\n",
    "def dia_da_semana(y):\n",
    "    x = y.dayofweek\n",
    "    return dias[x]"
   ]
  },
  {
   "cell_type": "code",
   "execution_count": 18,
   "metadata": {},
   "outputs": [
    {
     "data": {
      "text/plain": [
       "Sexta      1809\n",
       "Quinta     1805\n",
       "Quarta     1518\n",
       "Sábado     1445\n",
       "Terça      1176\n",
       "Segunda     836\n",
       "Domingo     278\n",
       "Name: date, dtype: int64"
      ]
     },
     "execution_count": 18,
     "metadata": {},
     "output_type": "execute_result"
    }
   ],
   "source": [
    "offSales[offSales['state']=='RJ']['date'].apply(dia_da_semana).value_counts()"
   ]
  },
  {
   "cell_type": "code",
   "execution_count": 19,
   "metadata": {},
   "outputs": [
    {
     "data": {
      "text/plain": [
       "Text(0.5, 1.0, 'Número de vendas em função do dia da semana')"
      ]
     },
     "execution_count": 19,
     "metadata": {},
     "output_type": "execute_result"
    },
    {
     "data": {
      "image/png": "[encoded data removed]",
      "text/plain": [
       "<Figure size 864x432 with 1 Axes>"
      ]
     },
     "metadata": {
      "needs_background": "light"
     },
     "output_type": "display_data"
    }
   ],
   "source": [
    "# O dia zero é segunda-feira segundo a documentação do pandas\n",
    "plt.figure(figsize=(12,6))\n",
    "sns.distplot(offSales[offSales['state']=='RJ']['date'].apply(lambda x:x.dayofweek),kde=False)\n",
    "plt.ylabel('Número de vendas',size=20)\n",
    "plt.xlabel('Dia da semana (0 = Segunda-Feira)',size=20)\n",
    "plt.title('Número de vendas em função do dia da semana',size=20)\n"
   ]
  },
  {
   "cell_type": "markdown",
   "metadata": {},
   "source": [
    "## <font color='red'>Olhando somente para o gráfico e para a tabela aparenta que os cariocas não gostam de comprar no domingo e compram na média no sábado. Porem por se tratar de lojas físicas pode ser que muitas só fiquem abertas até meio dia no sábado e/ou não abram no domingo ou só abram no domingo em ocasiões especiais. Portando o dado é inconclusivo quanto a preferência dos cariocas. A infomação mais correta é que há menos vendas no domingo e vendas medianas no sábado.</font>"
   ]
  },
  {
   "cell_type": "markdown",
   "metadata": {},
   "source": [
    "## <font color='blue'>Analisando se algumas lojas não abrem pelo final de semana</font>"
   ]
  },
  {
   "cell_type": "code",
   "execution_count": 20,
   "metadata": {},
   "outputs": [
    {
     "data": {
      "text/html": [
       "<div>\n",
       "<style scoped>\n",
       "    .dataframe tbody tr th:only-of-type {\n",
       "        vertical-align: middle;\n",
       "    }\n",
       "\n",
       "    .dataframe tbody tr th {\n",
       "        vertical-align: top;\n",
       "    }\n",
       "\n",
       "    .dataframe thead th {\n",
       "        text-align: right;\n",
       "    }\n",
       "</style>\n",
       "<table border=\"1\" class=\"dataframe\">\n",
       "  <thead>\n",
       "    <tr style=\"text-align: right;\">\n",
       "      <th></th>\n",
       "      <th>customer_id</th>\n",
       "      <th>date</th>\n",
       "      <th>off_product_id</th>\n",
       "      <th>price</th>\n",
       "      <th>quantity</th>\n",
       "      <th>sale_id</th>\n",
       "      <th>state</th>\n",
       "      <th>store_id</th>\n",
       "      <th>day_of_week</th>\n",
       "    </tr>\n",
       "  </thead>\n",
       "  <tbody>\n",
       "    <tr>\n",
       "      <th>0</th>\n",
       "      <td>NaN</td>\n",
       "      <td>2018-08-01</td>\n",
       "      <td>643839313230323</td>\n",
       "      <td>279.0</td>\n",
       "      <td>1</td>\n",
       "      <td>323932636465316</td>\n",
       "      <td>RN</td>\n",
       "      <td>3162633</td>\n",
       "      <td>Quarta</td>\n",
       "    </tr>\n",
       "    <tr>\n",
       "      <th>1</th>\n",
       "      <td>NaN</td>\n",
       "      <td>2018-08-01</td>\n",
       "      <td>613665646663346</td>\n",
       "      <td>229.0</td>\n",
       "      <td>1</td>\n",
       "      <td>326463633336323</td>\n",
       "      <td>RN</td>\n",
       "      <td>3162633</td>\n",
       "      <td>Quarta</td>\n",
       "    </tr>\n",
       "    <tr>\n",
       "      <th>2</th>\n",
       "      <td>NaN</td>\n",
       "      <td>2018-08-01</td>\n",
       "      <td>343739666265353</td>\n",
       "      <td>179.0</td>\n",
       "      <td>1</td>\n",
       "      <td>333331346330323</td>\n",
       "      <td>RN</td>\n",
       "      <td>3162633</td>\n",
       "      <td>Quarta</td>\n",
       "    </tr>\n",
       "    <tr>\n",
       "      <th>3</th>\n",
       "      <td>NaN</td>\n",
       "      <td>2018-08-01</td>\n",
       "      <td>373034633762613</td>\n",
       "      <td>269.0</td>\n",
       "      <td>1</td>\n",
       "      <td>393461383633336</td>\n",
       "      <td>RN</td>\n",
       "      <td>3162633</td>\n",
       "      <td>Quarta</td>\n",
       "    </tr>\n",
       "    <tr>\n",
       "      <th>4</th>\n",
       "      <td>NaN</td>\n",
       "      <td>2018-08-01</td>\n",
       "      <td>343634373062363</td>\n",
       "      <td>29.0</td>\n",
       "      <td>1</td>\n",
       "      <td>616531626536373</td>\n",
       "      <td>RN</td>\n",
       "      <td>3162633</td>\n",
       "      <td>Quarta</td>\n",
       "    </tr>\n",
       "  </tbody>\n",
       "</table>\n",
       "</div>"
      ],
      "text/plain": [
       "   customer_id       date   off_product_id  price  quantity          sale_id  \\\n",
       "0          NaN 2018-08-01  643839313230323  279.0         1  323932636465316   \n",
       "1          NaN 2018-08-01  613665646663346  229.0         1  326463633336323   \n",
       "2          NaN 2018-08-01  343739666265353  179.0         1  333331346330323   \n",
       "3          NaN 2018-08-01  373034633762613  269.0         1  393461383633336   \n",
       "4          NaN 2018-08-01  343634373062363   29.0         1  616531626536373   \n",
       "\n",
       "  state  store_id day_of_week  \n",
       "0    RN   3162633      Quarta  \n",
       "1    RN   3162633      Quarta  \n",
       "2    RN   3162633      Quarta  \n",
       "3    RN   3162633      Quarta  \n",
       "4    RN   3162633      Quarta  "
      ]
     },
     "execution_count": 20,
     "metadata": {},
     "output_type": "execute_result"
    }
   ],
   "source": [
    "offSales['day_of_week']=offSales['date'].apply(dia_da_semana)\n",
    "offSales.head()"
   ]
  },
  {
   "cell_type": "code",
   "execution_count": 21,
   "metadata": {},
   "outputs": [
    {
     "name": "stdout",
     "output_type": "stream",
     "text": [
      "39 lojas no Brasil venderam no dia da semana Segunda\n",
      "39 lojas no Brasil venderam no dia da semana Terça\n",
      "39 lojas no Brasil venderam no dia da semana Quarta\n",
      "39 lojas no Brasil venderam no dia da semana Quinta\n",
      "39 lojas no Brasil venderam no dia da semana Sexta\n",
      "39 lojas no Brasil venderam no dia da semana Sábado\n",
      "34 lojas no Brasil venderam no dia da semana Domingo\n"
     ]
    }
   ],
   "source": [
    "for i in dias:\n",
    "    print(f\"{offSales[offSales['day_of_week']==i]['store_id'].nunique()} lojas no Brasil venderam no dia da semana {i}\")"
   ]
  },
  {
   "cell_type": "code",
   "execution_count": 22,
   "metadata": {},
   "outputs": [
    {
     "name": "stdout",
     "output_type": "stream",
     "text": [
      "13 lojas no Rio de Janeiro venderam no dia da semana Segunda\n",
      "13 lojas no Rio de Janeiro venderam no dia da semana Terça\n",
      "13 lojas no Rio de Janeiro venderam no dia da semana Quarta\n",
      "13 lojas no Rio de Janeiro venderam no dia da semana Quinta\n",
      "13 lojas no Rio de Janeiro venderam no dia da semana Sexta\n",
      "13 lojas no Rio de Janeiro venderam no dia da semana Sábado\n",
      "13 lojas no Rio de Janeiro venderam no dia da semana Domingo\n"
     ]
    }
   ],
   "source": [
    "for i in dias:\n",
    "    print(f\"{offSales[(offSales['day_of_week']=='Quarta') & (offSales['state']=='RJ')]['store_id'].nunique()} lojas no Rio de Janeiro venderam no dia da semana {i}\")"
   ]
  },
  {
   "cell_type": "markdown",
   "metadata": {},
   "source": [
    "## <font color='red'>Existem lojas no Brasil que não apresentam vendas no Domingo. Porem o mesmo não é verdade quanto ao Rio de Janeiro. Todas as lojas do estado apresentam vendas em todos os dias da semana. Possívelmente cariocas não gostam de comprar no domingo. </font>"
   ]
  },
  {
   "cell_type": "markdown",
   "metadata": {},
   "source": [
    "# 4)É comum escolher online e terminar a compra na loja física?"
   ]
  },
  {
   "cell_type": "markdown",
   "metadata": {},
   "source": [
    "## <font color='blue'>Limpeza do DataSet. Os dados mais úteis são o ID do cliente que visitou o site e a data. Dessa forma é possível comparar se ele foi na loja depois de visitar o site.</font>"
   ]
  },
  {
   "cell_type": "code",
   "execution_count": 23,
   "metadata": {},
   "outputs": [],
   "source": [
    "visitaSite = onPage[['customer_id','date']]"
   ]
  },
  {
   "cell_type": "markdown",
   "metadata": {},
   "source": [
    "## <font color='blue'>Será elimado os dados faltantes de ID do cliente pois sem isso não é possível verificar se ele foi em uma loja física.</font>"
   ]
  },
  {
   "cell_type": "code",
   "execution_count": 24,
   "metadata": {},
   "outputs": [],
   "source": [
    "visitaSite = visitaSite.dropna(subset=['customer_id'])"
   ]
  },
  {
   "cell_type": "code",
   "execution_count": 25,
   "metadata": {},
   "outputs": [
    {
     "data": {
      "text/plain": [
       "<matplotlib.axes._subplots.AxesSubplot at 0x17fa56433c8>"
      ]
     },
     "execution_count": 25,
     "metadata": {},
     "output_type": "execute_result"
    },
    {
     "data": {
      "image/png": "[encoded data removed]",
      "text/plain": [
       "<Figure size 1152x432 with 2 Axes>"
      ]
     },
     "metadata": {
      "needs_background": "light"
     },
     "output_type": "display_data"
    }
   ],
   "source": [
    "plt.figure(figsize=(16,6))\n",
    "sns.heatmap(visitaSite.isnull())"
   ]
  },
  {
   "cell_type": "code",
   "execution_count": 26,
   "metadata": {},
   "outputs": [
    {
     "data": {
      "text/plain": [
       "5913"
      ]
     },
     "execution_count": 26,
     "metadata": {},
     "output_type": "execute_result"
    }
   ],
   "source": [
    "visitaSite.nunique()['customer_id']"
   ]
  },
  {
   "cell_type": "code",
   "execution_count": 27,
   "metadata": {},
   "outputs": [
    {
     "name": "stdout",
     "output_type": "stream",
     "text": [
      "<class 'pandas.core.frame.DataFrame'>\n",
      "Int64Index: 80765 entries, 105 to 3452492\n",
      "Data columns (total 2 columns):\n",
      "customer_id    80765 non-null float64\n",
      "date           80765 non-null datetime64[ns]\n",
      "dtypes: datetime64[ns](1), float64(1)\n",
      "memory usage: 1.8 MB\n"
     ]
    }
   ],
   "source": [
    "visitaSite.info()"
   ]
  },
  {
   "cell_type": "markdown",
   "metadata": {},
   "source": [
    "## <font color='blue'>Limpeza dos dados</font>"
   ]
  },
  {
   "cell_type": "code",
   "execution_count": 28,
   "metadata": {},
   "outputs": [],
   "source": [
    "comprasLoja = offSales[['customer_id','date']].dropna(subset=['customer_id'])"
   ]
  },
  {
   "cell_type": "code",
   "execution_count": 29,
   "metadata": {},
   "outputs": [
    {
     "data": {
      "text/plain": [
       "<matplotlib.axes._subplots.AxesSubplot at 0x17fa679b080>"
      ]
     },
     "execution_count": 29,
     "metadata": {},
     "output_type": "execute_result"
    },
    {
     "data": {
      "image/png": "[encoded data removed]",
      "text/plain": [
       "<Figure size 1152x432 with 2 Axes>"
      ]
     },
     "metadata": {
      "needs_background": "light"
     },
     "output_type": "display_data"
    }
   ],
   "source": [
    "plt.figure(figsize=(16,6))\n",
    "sns.heatmap(comprasLoja.isnull())"
   ]
  },
  {
   "cell_type": "code",
   "execution_count": 30,
   "metadata": {},
   "outputs": [
    {
     "name": "stdout",
     "output_type": "stream",
     "text": [
      "<class 'pandas.core.frame.DataFrame'>\n",
      "Int64Index: 25844 entries, 7 to 29371\n",
      "Data columns (total 2 columns):\n",
      "customer_id    25844 non-null float64\n",
      "date           25844 non-null datetime64[ns]\n",
      "dtypes: datetime64[ns](1), float64(1)\n",
      "memory usage: 605.7 KB\n"
     ]
    }
   ],
   "source": [
    "comprasLoja.info()"
   ]
  },
  {
   "cell_type": "markdown",
   "metadata": {},
   "source": [
    "## <font color='blue'>Verificando se pessoas que visitaram o site compraram na loja</font>"
   ]
  },
  {
   "cell_type": "code",
   "execution_count": 31,
   "metadata": {},
   "outputs": [],
   "source": [
    "def esteve_loja(linha):\n",
    "    \"\"\"\n",
    "    Essa função é responsável por procurar no dataframe de lojas físicas\n",
    "    se pessoas que visitaram o site visitaram uma das lojas depois de ver o site\n",
    "    \n",
    "    Ela recebe o ID de quem comprou na loja e a data.\n",
    "    Depois verifica se esse ID visitou o site.\n",
    "    Se ele visitou o site a função verifica as datas que essa pessoal visitou \n",
    "    e compara se a data da visita foi anterior a compra na loja física.\n",
    "    Se uma das visitas ao site foi anterior a visita em loja física a função retorna o ID do cliente.\n",
    "    \n",
    "    Como o período analisado é de somente 31 dias não foi colocado limite de tempo da visita no site para a visita na loja.\n",
    "    Porem para tempos maiores seria bom limitar o tempo.\n",
    "    \"\"\"\n",
    "    a = visitaSite[visitaSite['customer_id']==linha[0]]\n",
    "    if len(a.index)>0:\n",
    "        for i in a.index:\n",
    "            if a['date'][i]<linha['date']:\n",
    "                return a['customer_id'][a.index[0]]\n",
    "                break"
   ]
  },
  {
   "cell_type": "code",
   "execution_count": 32,
   "metadata": {},
   "outputs": [],
   "source": [
    "visita = comprasLoja.apply(esteve_loja,axis=1)"
   ]
  },
  {
   "cell_type": "code",
   "execution_count": 33,
   "metadata": {
    "scrolled": true
   },
   "outputs": [],
   "source": [
    "visita = visita.dropna()"
   ]
  },
  {
   "cell_type": "code",
   "execution_count": 34,
   "metadata": {},
   "outputs": [
    {
     "data": {
      "text/plain": [
       "398"
      ]
     },
     "execution_count": 34,
     "metadata": {},
     "output_type": "execute_result"
    }
   ],
   "source": [
    "visita.nunique()"
   ]
  },
  {
   "cell_type": "code",
   "execution_count": 35,
   "metadata": {},
   "outputs": [
    {
     "data": {
      "text/plain": [
       "0.06730931845087096"
      ]
     },
     "execution_count": 35,
     "metadata": {},
     "output_type": "execute_result"
    }
   ],
   "source": [
    "conversao = visita.nunique()/visitaSite.nunique()['customer_id']\n",
    "conversao"
   ]
  },
  {
   "cell_type": "markdown",
   "metadata": {},
   "source": [
    "## <font color='red'>Cerca de 6,7% das pessoas que tinha ID no site depois foram em uma loja física. Esse número pode parecer insignificante, porém há muito mais visitas no site do que compras na loja. Logo isso pode representar uma porção significativa das vendas. Se houvesse o ID de todas as pessoas que visitam o site e das pessoas que compram na loja poderiamos dizer com maior exatidão o número de vendas em lojas devido ao site.</font>"
   ]
  },
  {
   "cell_type": "markdown",
   "metadata": {},
   "source": [
    "# 5)O time de marketing desta rede quer fazer uma campanha oferecendo um cupom de 20% nas compras de loja física para quem visitou o site e abandonou um carrinho com produtos. Estime o resultado dessa campanha.\n"
   ]
  },
  {
   "cell_type": "markdown",
   "metadata": {},
   "source": [
    "## <font color='red'>O sucesso dessa campanha dependerá de diversos fatores. Como o fato da empresa ter ou não o e-mail ou telefone dessas pessoas para mandar a promoção, tendo em vista que da maioria não possui nem o id do comprador. Além disso dependerá da época do mês que for feita e da atratividade da propaganda. Mas irei analisar quantos são os possíveis clientes para essa promoção.</font>"
   ]
  },
  {
   "cell_type": "code",
   "execution_count": 42,
   "metadata": {},
   "outputs": [
    {
     "data": {
      "text/plain": [
       "array([643839313230323, 613665646663346, 343739666265353, ...,\n",
       "       333938616133373, 366337303963646, 393961643766636], dtype=int64)"
      ]
     },
     "execution_count": 42,
     "metadata": {},
     "output_type": "execute_result"
    }
   ],
   "source": [
    "offSales['off_product_id'].unique()"
   ]
  },
  {
   "cell_type": "code",
   "execution_count": null,
   "metadata": {},
   "outputs": [],
   "source": []
  }
 ],
 "metadata": {
  "kernelspec": {
   "display_name": "Python 3",
   "language": "python",
   "name": "python3"
  },
  "language_info": {
   "codemirror_mode": {
    "name": "ipython",
    "version": 3
   },
   "file_extension": ".py",
   "mimetype": "text/x-python",
   "name": "python",
   "nbconvert_exporter": "python",
   "pygments_lexer": "ipython3",
   "version": "3.7.3"
  }
 },
 "nbformat": 4,
 "nbformat_minor": 2
}
