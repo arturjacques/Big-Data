{
 "cells": [
  {
   "cell_type": "markdown",
   "metadata": {},
   "source": [
    "# Importação das bibliotecas utilizadas no código"
   ]
  },
  {
   "cell_type": "code",
   "execution_count": 5,
   "metadata": {},
   "outputs": [],
   "source": [
    "import pandas as pd\n",
    "import numpy as np\n",
    "import matplotlib.pyplot as plt\n",
    "import seaborn as sns\n",
    "\n",
    "%matplotlib inline"
   ]
  },
  {
   "cell_type": "markdown",
   "metadata": {},
   "source": [
    "# Leitura dos DataFrames"
   ]
  },
  {
   "cell_type": "code",
   "execution_count": 15,
   "metadata": {
    "scrolled": true
   },
   "outputs": [
    {
     "data": {
      "text/html": [
       "<div>\n",
       "<style scoped>\n",
       "    .dataframe tbody tr th:only-of-type {\n",
       "        vertical-align: middle;\n",
       "    }\n",
       "\n",
       "    .dataframe tbody tr th {\n",
       "        vertical-align: top;\n",
       "    }\n",
       "\n",
       "    .dataframe thead th {\n",
       "        text-align: right;\n",
       "    }\n",
       "</style>\n",
       "<table border=\"1\" class=\"dataframe\">\n",
       "  <thead>\n",
       "    <tr style=\"text-align: right;\">\n",
       "      <th></th>\n",
       "      <th>customer_id</th>\n",
       "      <th>date</th>\n",
       "      <th>off_product_id</th>\n",
       "      <th>price</th>\n",
       "      <th>quantity</th>\n",
       "      <th>sale_id</th>\n",
       "      <th>state</th>\n",
       "      <th>store_id</th>\n",
       "    </tr>\n",
       "  </thead>\n",
       "  <tbody>\n",
       "    <tr>\n",
       "      <th>0</th>\n",
       "      <td>NaN</td>\n",
       "      <td>2018-08-01</td>\n",
       "      <td>643839313230323</td>\n",
       "      <td>279.0</td>\n",
       "      <td>1</td>\n",
       "      <td>323932636465316</td>\n",
       "      <td>RN</td>\n",
       "      <td>3162633</td>\n",
       "    </tr>\n",
       "    <tr>\n",
       "      <th>1</th>\n",
       "      <td>NaN</td>\n",
       "      <td>2018-08-01</td>\n",
       "      <td>613665646663346</td>\n",
       "      <td>229.0</td>\n",
       "      <td>1</td>\n",
       "      <td>326463633336323</td>\n",
       "      <td>RN</td>\n",
       "      <td>3162633</td>\n",
       "    </tr>\n",
       "    <tr>\n",
       "      <th>2</th>\n",
       "      <td>NaN</td>\n",
       "      <td>2018-08-01</td>\n",
       "      <td>343739666265353</td>\n",
       "      <td>179.0</td>\n",
       "      <td>1</td>\n",
       "      <td>333331346330323</td>\n",
       "      <td>RN</td>\n",
       "      <td>3162633</td>\n",
       "    </tr>\n",
       "    <tr>\n",
       "      <th>3</th>\n",
       "      <td>NaN</td>\n",
       "      <td>2018-08-01</td>\n",
       "      <td>373034633762613</td>\n",
       "      <td>269.0</td>\n",
       "      <td>1</td>\n",
       "      <td>393461383633336</td>\n",
       "      <td>RN</td>\n",
       "      <td>3162633</td>\n",
       "    </tr>\n",
       "    <tr>\n",
       "      <th>4</th>\n",
       "      <td>NaN</td>\n",
       "      <td>2018-08-01</td>\n",
       "      <td>343634373062363</td>\n",
       "      <td>29.0</td>\n",
       "      <td>1</td>\n",
       "      <td>616531626536373</td>\n",
       "      <td>RN</td>\n",
       "      <td>3162633</td>\n",
       "    </tr>\n",
       "  </tbody>\n",
       "</table>\n",
       "</div>"
      ],
      "text/plain": [
       "   customer_id       date   off_product_id  price  quantity          sale_id  \\\n",
       "0          NaN 2018-08-01  643839313230323  279.0         1  323932636465316   \n",
       "1          NaN 2018-08-01  613665646663346  229.0         1  326463633336323   \n",
       "2          NaN 2018-08-01  343739666265353  179.0         1  333331346330323   \n",
       "3          NaN 2018-08-01  373034633762613  269.0         1  393461383633336   \n",
       "4          NaN 2018-08-01  343634373062363   29.0         1  616531626536373   \n",
       "\n",
       "  state  store_id  \n",
       "0    RN   3162633  \n",
       "1    RN   3162633  \n",
       "2    RN   3162633  \n",
       "3    RN   3162633  \n",
       "4    RN   3162633  "
      ]
     },
     "execution_count": 15,
     "metadata": {},
     "output_type": "execute_result"
    }
   ],
   "source": [
    "offSales=pd.read_json(r'offline_sales.json',lines=True)\n",
    "offSales.head()"
   ]
  },
  {
   "cell_type": "code",
   "execution_count": 7,
   "metadata": {},
   "outputs": [
    {
     "data": {
      "text/html": [
       "<div>\n",
       "<style scoped>\n",
       "    .dataframe tbody tr th:only-of-type {\n",
       "        vertical-align: middle;\n",
       "    }\n",
       "\n",
       "    .dataframe tbody tr th {\n",
       "        vertical-align: top;\n",
       "    }\n",
       "\n",
       "    .dataframe thead th {\n",
       "        text-align: right;\n",
       "    }\n",
       "</style>\n",
       "<table border=\"1\" class=\"dataframe\">\n",
       "  <thead>\n",
       "    <tr style=\"text-align: right;\">\n",
       "      <th></th>\n",
       "      <th>customer_id</th>\n",
       "      <th>date</th>\n",
       "      <th>deviceType</th>\n",
       "      <th>on_product_id</th>\n",
       "      <th>order_id</th>\n",
       "      <th>price</th>\n",
       "      <th>quantity</th>\n",
       "      <th>visitor_id</th>\n",
       "    </tr>\n",
       "  </thead>\n",
       "  <tbody>\n",
       "    <tr>\n",
       "      <th>0</th>\n",
       "      <td>NaN</td>\n",
       "      <td>2018-08-01</td>\n",
       "      <td>desktop</td>\n",
       "      <td>323762666337343</td>\n",
       "      <td>363063373630306</td>\n",
       "      <td>839</td>\n",
       "      <td>1</td>\n",
       "      <td>3.663324e+24</td>\n",
       "    </tr>\n",
       "    <tr>\n",
       "      <th>1</th>\n",
       "      <td>6.339334e+19</td>\n",
       "      <td>2018-08-01</td>\n",
       "      <td>mobile</td>\n",
       "      <td>313562333039323</td>\n",
       "      <td>356664366366353</td>\n",
       "      <td>629</td>\n",
       "      <td>1</td>\n",
       "      <td>3.430317e+24</td>\n",
       "    </tr>\n",
       "    <tr>\n",
       "      <th>2</th>\n",
       "      <td>3.765363e+19</td>\n",
       "      <td>2018-08-01</td>\n",
       "      <td>desktop</td>\n",
       "      <td>383863346531623</td>\n",
       "      <td>313432656633333</td>\n",
       "      <td>219</td>\n",
       "      <td>1</td>\n",
       "      <td>3.261343e+24</td>\n",
       "    </tr>\n",
       "    <tr>\n",
       "      <th>3</th>\n",
       "      <td>6.533383e+19</td>\n",
       "      <td>2018-08-01</td>\n",
       "      <td>mobile</td>\n",
       "      <td>666136386663626</td>\n",
       "      <td>633236633438383</td>\n",
       "      <td>239</td>\n",
       "      <td>1</td>\n",
       "      <td>6.437387e+24</td>\n",
       "    </tr>\n",
       "    <tr>\n",
       "      <th>4</th>\n",
       "      <td>NaN</td>\n",
       "      <td>2018-08-01</td>\n",
       "      <td>desktop</td>\n",
       "      <td>626533383465323</td>\n",
       "      <td>623030326130383</td>\n",
       "      <td>69</td>\n",
       "      <td>1</td>\n",
       "      <td>6.264657e+24</td>\n",
       "    </tr>\n",
       "  </tbody>\n",
       "</table>\n",
       "</div>"
      ],
      "text/plain": [
       "    customer_id       date deviceType    on_product_id         order_id  \\\n",
       "0           NaN 2018-08-01    desktop  323762666337343  363063373630306   \n",
       "1  6.339334e+19 2018-08-01     mobile  313562333039323  356664366366353   \n",
       "2  3.765363e+19 2018-08-01    desktop  383863346531623  313432656633333   \n",
       "3  6.533383e+19 2018-08-01     mobile  666136386663626  633236633438383   \n",
       "4           NaN 2018-08-01    desktop  626533383465323  623030326130383   \n",
       "\n",
       "   price  quantity    visitor_id  \n",
       "0    839         1  3.663324e+24  \n",
       "1    629         1  3.430317e+24  \n",
       "2    219         1  3.261343e+24  \n",
       "3    239         1  6.437387e+24  \n",
       "4     69         1  6.264657e+24  "
      ]
     },
     "execution_count": 7,
     "metadata": {},
     "output_type": "execute_result"
    }
   ],
   "source": [
    "onOrders = pd.read_json(r'online_orders.json',lines=True)\n",
    "onOrders.head()"
   ]
  },
  {
   "cell_type": "code",
   "execution_count": 16,
   "metadata": {},
   "outputs": [
    {
     "data": {
      "text/html": [
       "<div>\n",
       "<style scoped>\n",
       "    .dataframe tbody tr th:only-of-type {\n",
       "        vertical-align: middle;\n",
       "    }\n",
       "\n",
       "    .dataframe tbody tr th {\n",
       "        vertical-align: top;\n",
       "    }\n",
       "\n",
       "    .dataframe thead th {\n",
       "        text-align: right;\n",
       "    }\n",
       "</style>\n",
       "<table border=\"1\" class=\"dataframe\">\n",
       "  <thead>\n",
       "    <tr style=\"text-align: right;\">\n",
       "      <th></th>\n",
       "      <th>category_id</th>\n",
       "      <th>customer_id</th>\n",
       "      <th>date</th>\n",
       "      <th>deviceType</th>\n",
       "      <th>on_product_id</th>\n",
       "      <th>pageType</th>\n",
       "      <th>visitor_id</th>\n",
       "    </tr>\n",
       "  </thead>\n",
       "  <tbody>\n",
       "    <tr>\n",
       "      <th>0</th>\n",
       "      <td>NaN</td>\n",
       "      <td>NaN</td>\n",
       "      <td>2018-08-01</td>\n",
       "      <td>desktop</td>\n",
       "      <td>NaN</td>\n",
       "      <td>home</td>\n",
       "      <td>6.162326e+24</td>\n",
       "    </tr>\n",
       "    <tr>\n",
       "      <th>1</th>\n",
       "      <td>NaN</td>\n",
       "      <td>NaN</td>\n",
       "      <td>2018-08-01</td>\n",
       "      <td>desktop</td>\n",
       "      <td>NaN</td>\n",
       "      <td>landing_page</td>\n",
       "      <td>3.538363e+24</td>\n",
       "    </tr>\n",
       "    <tr>\n",
       "      <th>2</th>\n",
       "      <td>6.161393e+09</td>\n",
       "      <td>NaN</td>\n",
       "      <td>2018-08-01</td>\n",
       "      <td>mobile</td>\n",
       "      <td>NaN</td>\n",
       "      <td>subcategory</td>\n",
       "      <td>3.130377e+24</td>\n",
       "    </tr>\n",
       "    <tr>\n",
       "      <th>3</th>\n",
       "      <td>6.664354e+09</td>\n",
       "      <td>NaN</td>\n",
       "      <td>2018-08-01</td>\n",
       "      <td>mobile</td>\n",
       "      <td>NaN</td>\n",
       "      <td>subcategory</td>\n",
       "      <td>3.130377e+24</td>\n",
       "    </tr>\n",
       "    <tr>\n",
       "      <th>4</th>\n",
       "      <td>NaN</td>\n",
       "      <td>NaN</td>\n",
       "      <td>2018-08-01</td>\n",
       "      <td>desktop</td>\n",
       "      <td>NaN</td>\n",
       "      <td>landing_page</td>\n",
       "      <td>3.235374e+24</td>\n",
       "    </tr>\n",
       "  </tbody>\n",
       "</table>\n",
       "</div>"
      ],
      "text/plain": [
       "    category_id  customer_id       date deviceType  on_product_id  \\\n",
       "0           NaN          NaN 2018-08-01    desktop            NaN   \n",
       "1           NaN          NaN 2018-08-01    desktop            NaN   \n",
       "2  6.161393e+09          NaN 2018-08-01     mobile            NaN   \n",
       "3  6.664354e+09          NaN 2018-08-01     mobile            NaN   \n",
       "4           NaN          NaN 2018-08-01    desktop            NaN   \n",
       "\n",
       "       pageType    visitor_id  \n",
       "0          home  6.162326e+24  \n",
       "1  landing_page  3.538363e+24  \n",
       "2   subcategory  3.130377e+24  \n",
       "3   subcategory  3.130377e+24  \n",
       "4  landing_page  3.235374e+24  "
      ]
     },
     "execution_count": 16,
     "metadata": {},
     "output_type": "execute_result"
    }
   ],
   "source": [
    "onPage = pd.read_json(r'online_pageviews.json',lines=True)\n",
    "onPage.head()"
   ]
  },
  {
   "cell_type": "markdown",
   "metadata": {},
   "source": [
    "## Verificação dos dados faltantes"
   ]
  },
  {
   "cell_type": "code",
   "execution_count": 11,
   "metadata": {},
   "outputs": [
    {
     "data": {
      "text/plain": [
       "<matplotlib.axes._subplots.AxesSubplot at 0x27b94d732e8>"
      ]
     },
     "execution_count": 11,
     "metadata": {},
     "output_type": "execute_result"
    },
    {
     "data": {
      "image/png": "[encoded data removed]",
      "text/plain": [
       "<Figure size 864x432 with 2 Axes>"
      ]
     },
     "metadata": {
      "needs_background": "light"
     },
     "output_type": "display_data"
    }
   ],
   "source": [
    "plt.figure(figsize=(12,6))\n",
    "sns.heatmap(offSales.isnull())"
   ]
  },
  {
   "cell_type": "code",
   "execution_count": 12,
   "metadata": {},
   "outputs": [
    {
     "data": {
      "text/plain": [
       "<matplotlib.axes._subplots.AxesSubplot at 0x27b94dfde80>"
      ]
     },
     "execution_count": 12,
     "metadata": {},
     "output_type": "execute_result"
    },
    {
     "data": {
      "image/png": "[encoded data removed]",
      "text/plain": [
       "<Figure size 864x432 with 2 Axes>"
      ]
     },
     "metadata": {
      "needs_background": "light"
     },
     "output_type": "display_data"
    }
   ],
   "source": [
    "plt.figure(figsize=(12,6))\n",
    "sns.heatmap(onOrders.isnull())"
   ]
  },
  {
   "cell_type": "code",
   "execution_count": 17,
   "metadata": {},
   "outputs": [
    {
     "data": {
      "text/plain": [
       "<matplotlib.axes._subplots.AxesSubplot at 0x27b94f326d8>"
      ]
     },
     "execution_count": 17,
     "metadata": {},
     "output_type": "execute_result"
    },
    {
     "data": {
      "image/png": "[encoded data removed]",
      "text/plain": [
       "<Figure size 864x432 with 2 Axes>"
      ]
     },
     "metadata": {
      "needs_background": "light"
     },
     "output_type": "display_data"
    }
   ],
   "source": [
    "plt.figure(figsize=(12,6))\n",
    "sns.heatmap(onPage.isnull())"
   ]
  },
  {
   "cell_type": "markdown",
   "metadata": {},
   "source": [
    "## <font color='red'>Os dados faltantes das compras são somente de ID do usuário e não afetarão as perguntas feitas (1 a 3)</font>"
   ]
  },
  {
   "cell_type": "markdown",
   "metadata": {},
   "source": [
    "# 1) Faturamento total no período."
   ]
  },
  {
   "cell_type": "code",
   "execution_count": 29,
   "metadata": {},
   "outputs": [
    {
     "data": {
      "text/plain": [
       "13903005.32"
      ]
     },
     "execution_count": 29,
     "metadata": {},
     "output_type": "execute_result"
    }
   ],
   "source": [
    "offlineFaturamento = (offSales['price']*offSales['quantity']).sum()\n",
    "offlineFaturamento"
   ]
  },
  {
   "cell_type": "code",
   "execution_count": 30,
   "metadata": {},
   "outputs": [
    {
     "data": {
      "text/plain": [
       "5649323"
      ]
     },
     "execution_count": 30,
     "metadata": {},
     "output_type": "execute_result"
    }
   ],
   "source": [
    "onlineFaturamento = (onOrders['price']*onOrders['quantity']).sum()\n",
    "onlineFaturamento"
   ]
  },
  {
   "cell_type": "code",
   "execution_count": 32,
   "metadata": {},
   "outputs": [
    {
     "data": {
      "text/plain": [
       "19552328.32"
      ]
     },
     "execution_count": 32,
     "metadata": {},
     "output_type": "execute_result"
    }
   ],
   "source": [
    "faturamentoTotal = onlineFaturamento + offlineFaturamento\n",
    "faturamentoTotal"
   ]
  },
  {
   "cell_type": "markdown",
   "metadata": {},
   "source": [
    "## <font color='red'>O faturamento total no período analisado foi de R$ 19.552.328,32</font>"
   ]
  },
  {
   "cell_type": "code",
   "execution_count": null,
   "metadata": {},
   "outputs": [],
   "source": []
  }
 ],
 "metadata": {
  "kernelspec": {
   "display_name": "Python 3",
   "language": "python",
   "name": "python3"
  },
  "language_info": {
   "codemirror_mode": {
    "name": "ipython",
    "version": 3
   },
   "file_extension": ".py",
   "mimetype": "text/x-python",
   "name": "python",
   "nbconvert_exporter": "python",
   "pygments_lexer": "ipython3",
   "version": "3.7.3"
  }
 },
 "nbformat": 4,
 "nbformat_minor": 2
}
